{
 "metadata": {
  "name": ""
 },
 "nbformat": 3,
 "nbformat_minor": 0,
 "worksheets": [
  {
   "cells": [
    {
     "cell_type": "code",
     "collapsed": false,
     "input": [
      "#Yet an another sample "
     ],
     "language": "python",
     "metadata": {},
     "outputs": [],
     "prompt_number": 1
    },
    {
     "cell_type": "code",
     "collapsed": false,
     "input": [
      "import sys\n",
      "print sys.path"
     ],
     "language": "python",
     "metadata": {},
     "outputs": [
      {
       "output_type": "stream",
       "stream": "stdout",
       "text": [
        "['', '/Library/Python/2.7/site-packages/pip-1.4.1-py2.7.egg', '/Users/kracekumar/code/baseframe', '/Library/Python/2.7/site-packages/coaster-0.4.0_dev-py2.7.egg', '/Library/Python/2.7/site-packages/cssmin-0.2.0-py2.7.egg', '/Library/Python/2.7/site-packages/closure-20121212-py2.7.egg', '/Library/Python/2.7/site-packages/Flask_MustacheJS-0.6.0-py2.7.egg', '/Library/Python/2.7/site-packages/Flask_BabelEx-0.9.1-py2.7.egg', '/Library/Python/2.7/site-packages/Flask_Cache-0.12-py2.7.egg', '/Library/Python/2.7/site-packages/Flask_WTF-0.9.3-py2.7.egg', '/Library/Python/2.7/site-packages/dnspython-1.11.1-py2.7.egg', '/Library/Python/2.7/site-packages/bleach-1.2.2-py2.7.egg', '/Library/Python/2.7/site-packages/semantic_version-2.2.1-py2.7.egg', '/Library/Python/2.7/site-packages/Pygments-1.6-py2.7.egg', '/Library/Python/2.7/site-packages/Markdown-2.3.1-py2.7.egg', '/Library/Python/2.7/site-packages/simplejson-3.3.1-py2.7-macosx-10.9-intel.egg', '/Library/Python/2.7/site-packages/BeautifulSoup-3.2.1-py2.7.egg', '/Library/Python/2.7/site-packages/pystache-0.5.3-py2.7.egg', '/Library/Python/2.7/site-packages/speaklater-1.3-py2.7.egg', '/Library/Python/2.7/site-packages/Babel-1.3-py2.7.egg', '/Library/Python/2.7/site-packages/itsdangerous-0.23-py2.7.egg', '/Library/Python/2.7/site-packages/html5lib-0.95-py2.7.egg', '/Library/Python/2.7/site-packages', '/Users/kracekumar/code/flask-lastuser', '/Library/Python/2.7/site-packages/readline-6.2.4.1-py2.7-macosx-10.7-intel.egg', '/Library/Python/2.7/site-packages/crawlit-0.1.3-py2.7.egg', '/Users/kracekumar/code/usergrid', '/System/Library/Frameworks/Python.framework/Versions/2.7/lib/python27.zip', '/System/Library/Frameworks/Python.framework/Versions/2.7/lib/python2.7', '/System/Library/Frameworks/Python.framework/Versions/2.7/lib/python2.7/plat-darwin', '/System/Library/Frameworks/Python.framework/Versions/2.7/lib/python2.7/plat-mac', '/System/Library/Frameworks/Python.framework/Versions/2.7/lib/python2.7/plat-mac/lib-scriptpackages', '/System/Library/Frameworks/Python.framework/Versions/2.7/Extras/lib/python', '/System/Library/Frameworks/Python.framework/Versions/2.7/lib/python2.7/lib-tk', '/System/Library/Frameworks/Python.framework/Versions/2.7/lib/python2.7/lib-old', '/System/Library/Frameworks/Python.framework/Versions/2.7/lib/python2.7/lib-dynload', '/System/Library/Frameworks/Python.framework/Versions/2.7/Extras/lib/python/PyObjC', '/Library/Python/2.7/site-packages', '/Library/Python/2.7/site-packages/PIL', '/Library/Python/2.7/site-packages/IPython/extensions']\n"
       ]
      }
     ],
     "prompt_number": 2
    },
    {
     "cell_type": "code",
     "collapsed": false,
     "input": [],
     "language": "python",
     "metadata": {},
     "outputs": []
    }
   ],
   "metadata": {}
  }
 ]
}